{
 "metadata": {
  "name": "",
  "signature": "sha256:ce4d44f75250583e0b6b9fb8b930990db48bf2028ebf81816449e42118416748"
 },
 "nbformat": 3,
 "nbformat_minor": 0,
 "worksheets": [
  {
   "cells": [
    {
     "cell_type": "code",
     "collapsed": false,
     "input": [
      "import numpy as np\n",
      "\n",
      "class AdalineSGD(object):\n",
      "    \n",
      "    def __init__(self, eta=0.01, epochs=50):\n",
      "        self.eta = eta\n",
      "        self.epochs = epochs\n",
      "    \n",
      "    def train(self, X, y, reinitialize_weights=True):\n",
      "        \n",
      "        if reinitialize_weights:\n",
      "            self.w_ = np.zeros(1 + X.shape[1])\n",
      "        self.cost_ = []\n",
      "        \n",
      "\n",
      "        for i in range(self.epochs):\n",
      "            for xi, target in zip(X, y):\n",
      "                output = self.net_input(xi)\n",
      "                error = (target - output)\n",
      "                print \"Before: \", self.w_\n",
      "                print self.eta*xi.dot(error)\n",
      "                self.w_[1:] += self.eta*xi.dot(error)\n",
      "                self.w_[0] += self.eta*error\n",
      "                print \"After: \", self.w_\n",
      "            cost = ((y - self.activation(X))**2).sum() / 2.0\n",
      "            self.cost_.append(cost)\n",
      "        return self\n",
      "    \n",
      "    def net_input(self, X):\n",
      "        return np.dot(X, self.w_[1:]) + self.w_[0]\n",
      "    \n",
      "    def activation(self, X):\n",
      "        return self.net_input(X)\n",
      "    \n",
      "    def predict(self, X):\n",
      "        return np.where(self.activation(X) >= 0.0, 1, -1)"
     ],
     "language": "python",
     "metadata": {},
     "outputs": [],
     "prompt_number": 15
    },
    {
     "cell_type": "code",
     "collapsed": false,
     "input": [],
     "language": "python",
     "metadata": {},
     "outputs": []
    }
   ],
   "metadata": {}
  }
 ]
}